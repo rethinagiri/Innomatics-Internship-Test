{
 "cells": [
  {
   "cell_type": "markdown",
   "id": "11abef7c",
   "metadata": {},
   "source": [
    "### Name : Rethinagiri G"
   ]
  },
  {
   "cell_type": "code",
   "execution_count": 1,
   "id": "07e007ca",
   "metadata": {},
   "outputs": [
    {
     "name": "stderr",
     "output_type": "stream",
     "text": [
      "C:\\Users\\santh\\anaconda3\\lib\\site-packages\\numpy\\_distributor_init.py:30: UserWarning: loaded more than 1 DLL from .libs:\n",
      "C:\\Users\\santh\\anaconda3\\lib\\site-packages\\numpy\\.libs\\libopenblas64__v0.3.21-gcc_10_3_0.dll\n",
      "C:\\Users\\santh\\anaconda3\\lib\\site-packages\\numpy\\.libs\\libopenblas64__v0.3.23-246-g3d31191b-gcc_10_3_0.dll\n",
      "  warnings.warn(\"loaded more than 1 DLL from .libs:\"\n"
     ]
    },
    {
     "name": "stdout",
     "output_type": "stream",
     "text": [
      "(100836, 4)\n"
     ]
    }
   ],
   "source": [
    "import pandas as pd\n",
    "\n",
    "rating= 'ratings.csv'\n",
    "movies= 'movies.csv'\n",
    "tags = 'tags.csv'\n",
    "rating = pd.read_csv(rating)\n",
    "print(rating.shape)"
   ]
  },
  {
   "cell_type": "code",
   "execution_count": 2,
   "id": "dffc2d92",
   "metadata": {},
   "outputs": [
    {
     "name": "stdout",
     "output_type": "stream",
     "text": [
      "610\n"
     ]
    }
   ],
   "source": [
    "user_ids = rating['userId'].nunique()\n",
    "print(user_ids)\n"
   ]
  },
  {
   "cell_type": "code",
   "execution_count": 3,
   "id": "92ca8025",
   "metadata": {},
   "outputs": [
    {
     "name": "stdout",
     "output_type": "stream",
     "text": [
      "Forrest Gump (1994)\n"
     ]
    }
   ],
   "source": [
    "# Movie with the maximum number of user ratings\n",
    "\n",
    "movies= pd.read_csv(movies)\n",
    "merged = pd.merge(rating, movies, on='movieId')\n",
    "movie_ratings = merged.groupby('title')['rating'].count()\n",
    "max_rated_movie = movie_ratings.idxmax()\n",
    "\n",
    "print( max_rated_movie)"
   ]
  },
  {
   "cell_type": "code",
   "execution_count": 5,
   "id": "e635d820",
   "metadata": {},
   "outputs": [
    {
     "name": "stdout",
     "output_type": "stream",
     "text": [
      "['martial arts' 'sci-fi' 'alternate universe' 'philosophy'\n",
      " 'post apocalyptic']\n"
     ]
    }
   ],
   "source": [
    "\n",
    "tags= pd.read_csv(tags)\n",
    "matrix_movie = movies[movies['title'] == 'Matrix, The (1999)']\n",
    "merged_tags= pd.merge(tags, matrix_movie, on='movieId')\n",
    "selected_tags = merged_tags['tag']\n",
    "\n",
    "# Display the unique tags\n",
    "unique_tags = selected_tags.unique()\n",
    "print(unique_tags)"
   ]
  },
  {
   "cell_type": "code",
   "execution_count": 11,
   "id": "e3d4b691",
   "metadata": {},
   "outputs": [
    {
     "name": "stdout",
     "output_type": "stream",
     "text": [
      "3.970982142857143\n"
     ]
    }
   ],
   "source": [
    "# Average user rating for 'Terminator 2: Judgment Day (1991)\n",
    "\n",
    "terminator_movie = movies[movies['title'] == 'Terminator 2: Judgment Day (1991)']\n",
    "merged= pd.merge(rating, terminator_movie, on='movieId')\n",
    "\n",
    "# Calculate the average user rating\n",
    "avg_rating = merged['rating'].mean()\n",
    "print( avg_rating)"
   ]
  },
  {
   "cell_type": "code",
   "execution_count": 12,
   "id": "92e84a85",
   "metadata": {},
   "outputs": [
    {
     "data": {
      "image/png": "[encoded data removed]",
      "text/plain": [
       "<Figure size 640x480 with 1 Axes>"
      ]
     },
     "metadata": {},
     "output_type": "display_data"
    }
   ],
   "source": [
    "import matplotlib.pyplot as plt\n",
    "\n",
    "fight_club_movie = movies[movies['title'] == 'Fight Club (1999)']\n",
    "\n",
    "# Merge the ratings and movies DataFrames on 'movieId'\n",
    "merged_ = pd.merge(rating, fight_club_movie, on='movieId')\n",
    "\n",
    "# Plot a histogram of user ratings\n",
    "plt.hist(merged_['rating'], bins=10, edgecolor='black')\n",
    "plt.title('Distribution of User Ratings for Fight Club (1999)')\n",
    "plt.xlabel('Rating')\n",
    "plt.ylabel('Frequency')\n",
    "plt.show()\n"
   ]
  },
  {
   "cell_type": "code",
   "execution_count": 13,
   "id": "8afa8131",
   "metadata": {},
   "outputs": [
    {
     "name": "stdout",
     "output_type": "stream",
     "text": [
      "Most popular movie based on average user ratings: Terminator 2: Judgment Day (1991)\n"
     ]
    }
   ],
   "source": [
    "# Most popular movie based on average user ratings\n",
    "\n",
    "average_ratings = merged.groupby('title')['rating'].mean()\n",
    "most_popular_movie = average_ratings.idxmax()\n",
    "\n",
    "print( most_popular_movie)"
   ]
  },
  {
   "cell_type": "code",
   "execution_count": 15,
   "id": "8cf44754",
   "metadata": {},
   "outputs": [
    {
     "name": "stdout",
     "output_type": "stream",
     "text": [
      "Most popular movie based on average user ratings (with more than 50 ratings): Shawshank Redemption, The (1994)\n"
     ]
    }
   ],
   "source": [
    "# Most popular movie based on average user ratings (with more than 50 ratings)\n",
    "\n",
    "grouped_ratings = rating.groupby('movieId')['rating'].agg(['count', 'mean']).reset_index()\n",
    "\n",
    "merge_ = pd.merge(movies, grouped_ratings, on='movieId', how='inner')\n",
    "filtered_movies = merge_[merge_['count'] > 50]\n",
    "most_popular_movie = filtered_movies.loc[filtered_movies['mean'].idxmax(), 'title']\n",
    "\n",
    "print(most_popular_movie)"
   ]
  },
  {
   "cell_type": "code",
   "execution_count": 23,
   "id": "59ecfdc8",
   "metadata": {},
   "outputs": [
    {
     "name": "stdout",
     "output_type": "stream",
     "text": [
      "\n",
      "\n",
      "314                  Forrest Gump (1994)\n",
      "277     Shawshank Redemption, The (1994)\n",
      "257                  Pulp Fiction (1994)\n",
      "510     Silence of the Lambs, The (1991)\n",
      "1938                  Matrix, The (1999)\n",
      "Name: title, dtype: object\n"
     ]
    }
   ],
   "source": [
    "# Top 5 popular movies based on the number of user ratings\n",
    "\n",
    "grouped_ratings = rating.groupby('movieId')['rating'].agg(['count', 'mean']).reset_index()\n",
    "merged_df = pd.merge(movies, grouped_ratings, on='movieId', how='inner')\n",
    "filtered_movies = merged_df[merged_df['count'] > 50]\n",
    "sorted_movies = filtered_movies.sort_values(by='count', ascending=False)\n",
    "top_5_movies = sorted_movies.head(5)\n",
    "\n",
    "\n",
    "# Display the titles of the top 5 movies\n",
    "print(top_5_movies['title'])\n"
   ]
  },
  {
   "cell_type": "code",
   "execution_count": 20,
   "id": "a28d1835",
   "metadata": {},
   "outputs": [
    {
     "name": "stdout",
     "output_type": "stream",
     "text": [
      "Jurassic Park (1993)\n"
     ]
    }
   ],
   "source": [
    "# Third most popular Sci-Fi movie based on the number of user ratings\n",
    "\n",
    "ratings = rating.groupby('movieId')['rating'].agg(['count', 'mean']).reset_index()\n",
    "merged_df = pd.merge(movies, ratings, on='movieId', how='inner')\n",
    "filtered_movies = merged_df[merged_df['count'] > 50]\n",
    "sci_fi_movies = filtered_movies[filtered_movies['genres'].str.contains('Sci-Fi')]\n",
    "sorted_ = sci_fi_movies.sort_values(by='count', ascending=False)\n",
    "\n",
    "# Step 6: Select the third most popular Sci-Fi movie\n",
    "third_most_popular_sci_fi = sorted_.iloc[2]\n",
    "print(third_most_popular_sci_fi['title'])"
   ]
  },
  {
   "cell_type": "code",
   "execution_count": 22,
   "id": "ded8dd8b",
   "metadata": {},
   "outputs": [
    {
     "name": "stdout",
     "output_type": "stream",
     "text": [
      "53\n"
     ]
    }
   ],
   "source": [
    "# MovieId of the movie with the highest average user rating\n",
    "\n",
    "average_ratings = rating.groupby('movieId')['rating'].mean().reset_index()\n",
    "highest_rated_movie_id = average_ratings.loc[average_ratings['rating'].idxmax(), 'movieId']\n",
    "\n",
    "print(highest_rated_movie_id)\n"
   ]
  },
  {
   "cell_type": "code",
   "execution_count": 17,
   "id": "4622107f",
   "metadata": {},
   "outputs": [
    {
     "name": "stdout",
     "output_type": "stream",
     "text": [
      "3687\n"
     ]
    }
   ],
   "source": [
    "# MovieId of the Sci-Fi movie with the highest average user rating (IMDb)\n",
    "\n",
    "grouped_ratings = rating.groupby('movieId')['rating'].agg(['count', 'mean']).reset_index()\n",
    "merged_df = pd.merge(movies, grouped_ratings, on='movieId', how='inner')\n",
    "sci_fi_movies = merged_df[merged_df['genres'].str.contains('Sci-Fi')]\n",
    "sci_fi_movie = sci_fi_movies.loc[sci_fi_movies['mean'].idxmax(), 'movieId']\n",
    "\n",
    "print( sci_fi_movie)"
   ]
  },
  {
   "cell_type": "code",
   "execution_count": null,
   "id": "5d549035",
   "metadata": {},
   "outputs": [],
   "source": []
  }
 ],
 "metadata": {
  "kernelspec": {
   "display_name": "Python 3 (ipykernel)",
   "language": "python",
   "name": "python3"
  },
  "language_info": {
   "codemirror_mode": {
    "name": "ipython",
    "version": 3
   },
   "file_extension": ".py",
   "mimetype": "text/x-python",
   "name": "python",
   "nbconvert_exporter": "python",
   "pygments_lexer": "ipython3",
   "version": "3.9.13"
  }
 },
 "nbformat": 4,
 "nbformat_minor": 5
}
